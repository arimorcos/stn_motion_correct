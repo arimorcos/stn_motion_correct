{
 "cells": [
  {
   "cell_type": "code",
   "execution_count": null,
   "metadata": {
    "collapsed": false
   },
   "outputs": [],
   "source": [
    "import sys\n",
    "sys.path.append('..')\n",
    "\n",
    "import numpy as np\n",
    "import lasagne\n",
    "import theano\n",
    "import theano.tensor as T \n",
    "import networks\n",
    "\n",
    "import os\n",
    "import tiff_helpers\n",
    "\n",
    "%matplotlib inline \n",
    "import matplotlib.pyplot as plt\n",
    "plt.style.use('seaborn-paper')"
   ]
  },
  {
   "cell_type": "code",
   "execution_count": null,
   "metadata": {
    "collapsed": false
   },
   "outputs": [],
   "source": [
    "# get image path\n",
    "load_folder = '/media/arimorcos/SSD 1/AM144/141203'\n",
    "test_tiff = 'AM144_001_001.tif'\n",
    "load_tiff = os.path.join(load_folder, test_tiff)\n",
    "\n",
    "# load in red image \n",
    "num_pages = tiff_helpers.get_num_tiff_pages(load_tiff)\n",
    "red_test = tiff_helpers.read_tiff(load_tiff, range(1, num_pages, 2)).astype(theano.config.floatX)\n",
    "red_test = tiff_helpers.mean_center_img(red_test)"
   ]
  },
  {
   "cell_type": "code",
   "execution_count": null,
   "metadata": {
    "collapsed": false,
    "scrolled": false
   },
   "outputs": [],
   "source": [
    "fig = plt.figure(figsize=(5,5))\n",
    "ax = fig.add_subplot(111)\n",
    "ax.imshow(red_test[:, :, 100], cmap='gray');"
   ]
  },
  {
   "cell_type": "code",
   "execution_count": null,
   "metadata": {
    "collapsed": false
   },
   "outputs": [],
   "source": [
    "# Build network \n",
    "reload(networks)\n",
    "network = networks.stn(batch_size=16, save_every=100000)"
   ]
  },
  {
   "cell_type": "code",
   "execution_count": null,
   "metadata": {
    "collapsed": false
   },
   "outputs": [],
   "source": [
    "# Format a test image appropriately \n",
    "input_imgs = red_test[:, :, np.array([0, 500])]\n",
    "test_input = np.expand_dims(np.transpose(input_imgs, axes=(2, 0, 1)), 3)\n",
    "test_input = np.tile(test_input, (1, 1, 1, 16))\n",
    "test_input = np.transpose(test_input, axes=(3, 0, 1, 2))\n",
    "\n",
    "# format test reference \n",
    "test_ref = np.expand_dims(red_test[:, :, 500], 2)\n",
    "test_ref = np.tile(test_ref, (1, 1, 16))\n",
    "test_ref = np.transpose(test_ref, axes=(2, 0, 1))\n",
    "test_ref.shape"
   ]
  },
  {
   "cell_type": "code",
   "execution_count": null,
   "metadata": {
    "collapsed": false
   },
   "outputs": [],
   "source": [
    "# Train network \n",
    "reset = True\n",
    "num_epochs = 100000\n",
    "if reset:\n",
    "    cost = []\n",
    "    network.set_log_dir('/media/arimorcos/4TB External/stn_conv_net/overfitting_test')\n",
    "print_every = 5\n",
    "\n",
    "for epoch in range(num_epochs):\n",
    "    temp_cost = network.train_adam(test_input, test_ref)\n",
    "    \n",
    "    cost.append(temp_cost)\n",
    "    \n",
    "    if epoch % print_every == 0:\n",
    "        print(\"Epoch: {} | Cost: {:.5f}\".format(epoch, temp_cost.tolist()))"
   ]
  },
  {
   "cell_type": "code",
   "execution_count": null,
   "metadata": {
    "collapsed": true
   },
   "outputs": [],
   "source": [
    "input_imgs = red_test[:, :, np.array([0, 500])]\n",
    "test_input_big = np.expand_dims(np.transpose(input_imgs, axes=(2, 0, 1)), 3)\n",
    "test_input_big = np.tile(test_input_big, (1, 1, 1, 16))\n",
    "test_input_big = np.transpose(test_input_big, axes=(3, 0, 1, 2))"
   ]
  },
  {
   "cell_type": "code",
   "execution_count": null,
   "metadata": {
    "collapsed": false,
    "scrolled": true
   },
   "outputs": [],
   "source": [
    "0.031*100000"
   ]
  },
  {
   "cell_type": "code",
   "execution_count": null,
   "metadata": {
    "collapsed": false,
    "scrolled": false
   },
   "outputs": [],
   "source": [
    "%%time\n",
    "test_out = network.process(test_input_big)\n",
    "# test_out.shape"
   ]
  },
  {
   "cell_type": "code",
   "execution_count": null,
   "metadata": {
    "collapsed": false
   },
   "outputs": [],
   "source": [
    "aligned = test_out[0, :, :]\n",
    "aligned.shape"
   ]
  },
  {
   "cell_type": "code",
   "execution_count": null,
   "metadata": {
    "collapsed": false
   },
   "outputs": [],
   "source": [
    "%matplotlib qt\n",
    "start = 100\n",
    "stop = 400\n",
    "\n",
    "fig = plt.figure(figsize=(10, 20))\n",
    "ax = fig.add_subplot(211)\n",
    "tiff_helpers.imshowpair(test_ref[0, start:stop, start:stop], test_input[0, 0, start:stop, start:stop], ax)\n",
    "ax = fig.add_subplot(212)\n",
    "tiff_helpers.imshowpair(test_ref[0, start:stop, start:stop], aligned[start:stop, start:stop], ax)"
   ]
  },
  {
   "cell_type": "code",
   "execution_count": null,
   "metadata": {
    "collapsed": true
   },
   "outputs": [],
   "source": []
  }
 ],
 "metadata": {
  "kernelspec": {
   "display_name": "Python 2",
   "language": "python",
   "name": "python2"
  },
  "language_info": {
   "codemirror_mode": {
    "name": "ipython",
    "version": 2
   },
   "file_extension": ".py",
   "mimetype": "text/x-python",
   "name": "python",
   "nbconvert_exporter": "python",
   "pygments_lexer": "ipython2",
   "version": "2.7.11"
  }
 },
 "nbformat": 4,
 "nbformat_minor": 0
}
