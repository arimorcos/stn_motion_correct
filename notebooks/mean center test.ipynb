{
 "cells": [
  {
   "cell_type": "code",
   "execution_count": 1,
   "metadata": {
    "collapsed": true
   },
   "outputs": [],
   "source": [
    "import sys\n",
    "sys.path.append('..')\n",
    "import numpy as np\n",
    "from tiff_helpers import *\n"
   ]
  },
  {
   "cell_type": "code",
   "execution_count": 33,
   "metadata": {
    "collapsed": true
   },
   "outputs": [],
   "source": [
    "path = '/media/arimorcos/SSD 1/AM144/141204/AM144_001_001.tif'\n",
    "pages = range(1, 2000, 2)\n",
    "tiff = read_tiff(path, pages)"
   ]
  },
  {
   "cell_type": "code",
   "execution_count": 4,
   "metadata": {
    "collapsed": true
   },
   "outputs": [],
   "source": [
    "def mean_center_img(img):\n",
    "    \"\"\"\n",
    "    Makes each image in a stack have zero mean and unit std\n",
    "    :param img: 3d array of images\n",
    "    :return: normalized image array\n",
    "    \"\"\"\n",
    "\n",
    "    for page in range(img.shape[2]):\n",
    "        temp_page = img[:, :, page]\n",
    "        img[:, :, page] = (temp_page - temp_page.mean())/temp_page.std()\n",
    "\n",
    "    return img"
   ]
  },
  {
   "cell_type": "code",
   "execution_count": 34,
   "metadata": {
    "collapsed": false
   },
   "outputs": [
    {
     "data": {
      "text/plain": [
       "(512, 512, 1000)"
      ]
     },
     "execution_count": 34,
     "metadata": {},
     "output_type": "execute_result"
    }
   ],
   "source": [
    "tiff.shape"
   ]
  },
  {
   "cell_type": "code",
   "execution_count": 35,
   "metadata": {
    "collapsed": false
   },
   "outputs": [
    {
     "name": "stdout",
     "output_type": "stream",
     "text": [
      "CPU times: user 13.4 s, sys: 0 ns, total: 13.4 s\n",
      "Wall time: 13.4 s\n"
     ]
    }
   ],
   "source": [
    "%%time\n",
    "slow = mean_center_img(tiff)"
   ]
  },
  {
   "cell_type": "code",
   "execution_count": 37,
   "metadata": {
    "collapsed": true
   },
   "outputs": [],
   "source": [
    "import time"
   ]
  },
  {
   "cell_type": "code",
   "execution_count": 45,
   "metadata": {
    "collapsed": true
   },
   "outputs": [],
   "source": [
    "from numba import jit"
   ]
  },
  {
   "cell_type": "code",
   "execution_count": 46,
   "metadata": {
    "collapsed": true
   },
   "outputs": [],
   "source": [
    "@jit\n",
    "def mean_center_img_numba(img):\n",
    "    \"\"\"\n",
    "    Makes each image in a stack have zero mean and unit std\n",
    "    :param img: 3d array of images\n",
    "    :return: normalized image array\n",
    "    \"\"\"    \n",
    "    \n",
    "    # Get original shape \n",
    "    orig_shape = img.shape\n",
    "    \n",
    "    # Get number of pixels per page \n",
    "    num_pixels_per_page = orig_shape[0]*orig_shape[1]\n",
    "    \n",
    "    # Reshape tiff to num_pixels_per_page x num_pages\n",
    "    reshape_img = np.reshape(img, (num_pixels_per_page, -1))\n",
    "    \n",
    "    # Take mean and std \n",
    "    page_means = reshape_img.mean(axis=0)\n",
    "    page_stds = reshape_img.std(axis=0)\n",
    "    \n",
    "    # Mean center each page \n",
    "    reshape_img = (reshape_img - page_means)/page_stds\n",
    "    \n",
    "    # Reshape to appropriate size \n",
    "    return np.reshape(reshape_img, orig_shape)  \n",
    "    \n",
    "    "
   ]
  },
  {
   "cell_type": "code",
   "execution_count": 43,
   "metadata": {
    "collapsed": true
   },
   "outputs": [],
   "source": [
    "def mean_center_img_fast(img):\n",
    "    \"\"\"\n",
    "    Makes each image in a stack have zero mean and unit std\n",
    "    :param img: 3d array of images\n",
    "    :return: normalized image array\n",
    "    \"\"\"    \n",
    "    \n",
    "    # Get original shape \n",
    "    orig_shape = img.shape\n",
    "    \n",
    "    # Get number of pixels per page \n",
    "    num_pixels_per_page = orig_shape[0]*orig_shape[1]\n",
    "    \n",
    "    # Reshape tiff to num_pixels_per_page x num_pages\n",
    "    reshape_img = np.reshape(img, (num_pixels_per_page, -1))\n",
    "    \n",
    "    t = time.time()\n",
    "    \n",
    "    # Take mean and std \n",
    "    page_means = reshape_img.mean(axis=0)\n",
    "    page_stds = reshape_img.std(axis=0)\n",
    "    \n",
    "    print time.time() - t\n",
    "    \n",
    "    t = time.time()\n",
    "    # Mean center each page \n",
    "    reshape_img = (reshape_img - page_means)/page_stds\n",
    "    print time.time() - t\n",
    "    \n",
    "    # Reshape to appropriate size \n",
    "    return np.reshape(reshape_img, orig_shape)  \n",
    "    \n",
    "    "
   ]
  },
  {
   "cell_type": "code",
   "execution_count": 44,
   "metadata": {
    "collapsed": false
   },
   "outputs": [
    {
     "name": "stdout",
     "output_type": "stream",
     "text": [
      "1.57793188095\n",
      "1.78193497658\n",
      "CPU times: user 2.66 s, sys: 740 ms, total: 3.4 s\n",
      "Wall time: 3.4 s\n"
     ]
    }
   ],
   "source": [
    "%%time\n",
    "fast = mean_center_img_fast(tiff)"
   ]
  },
  {
   "cell_type": "code",
   "execution_count": null,
   "metadata": {
    "collapsed": true
   },
   "outputs": [],
   "source": []
  }
 ],
 "metadata": {
  "kernelspec": {
   "display_name": "Python 2",
   "language": "python",
   "name": "python2"
  },
  "language_info": {
   "codemirror_mode": {
    "name": "ipython",
    "version": 2
   },
   "file_extension": ".py",
   "mimetype": "text/x-python",
   "name": "python",
   "nbconvert_exporter": "python",
   "pygments_lexer": "ipython2",
   "version": "2.7.11"
  }
 },
 "nbformat": 4,
 "nbformat_minor": 0
}
