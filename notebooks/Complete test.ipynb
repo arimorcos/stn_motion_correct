{
 "cells": [
  {
   "cell_type": "code",
   "execution_count": 1,
   "metadata": {},
   "outputs": [],
   "source": [
    "import sys\n",
    "sys.path.append('..')\n",
    "\n",
    "import numpy as np\n",
    "import lasagne\n",
    "import theano\n",
    "import theano.tensor as T \n",
    "import networks\n",
    "\n",
    "import os\n",
    "import tiff_helpers\n",
    "import image_manager\n",
    "import datetime\n",
    "\n",
    "%matplotlib inline \n",
    "import matplotlib.pyplot as plt\n",
    "plt.style.use('seaborn-paper')"
   ]
  },
  {
   "cell_type": "code",
   "execution_count": 2,
   "metadata": {},
   "outputs": [],
   "source": [
    "batch_size = 16"
   ]
  },
  {
   "cell_type": "code",
   "execution_count": null,
   "metadata": {},
   "outputs": [],
   "source": [
    "# Create image handler\n",
    "im_handler = image_manager.image_manager(batch_size=batch_size)\n",
    "\n",
    "# Advance schedule for the first time \n",
    "im_handler.advance_schedule()"
   ]
  },
  {
   "cell_type": "code",
   "execution_count": null,
   "metadata": {},
   "outputs": [],
   "source": [
    "# Create network \n",
    "network = networks.stn(batch_size=batch_size, save_every=100000)"
   ]
  },
  {
   "cell_type": "code",
   "execution_count": null,
   "metadata": {},
   "outputs": [],
   "source": [
    "ind = 0"
   ]
  },
  {
   "cell_type": "code",
   "execution_count": null,
   "metadata": {},
   "outputs": [],
   "source": [
    "curr_batch_input, curr_batch_ref = im_handler.offer_data()\n",
    "fig = plt.figure(figsize=(10,5))\n",
    "ax = fig.add_subplot(121)\n",
    "ax.imshow(curr_batch_input[ind, 0, :, :], cmap='gray');\n",
    "ax = fig.add_subplot(122)\n",
    "ax.imshow(curr_batch_ref[ind, :, :], cmap='gray');\n",
    "ind += 1"
   ]
  },
  {
   "cell_type": "code",
   "execution_count": null,
   "metadata": {},
   "outputs": [],
   "source": [
    "root_dir = '/media/arimorcos/4TB External/stn_conv_net'\n",
    "new_log_dir = os.path.join(root_dir, datetime.datetime.now().strftime('%y%m%d_%H%M%S'))\n",
    "network.set_log_dir(new_log_dir)"
   ]
  },
  {
   "cell_type": "code",
   "execution_count": null,
   "metadata": {},
   "outputs": [],
   "source": [
    "curr_batch_input, curr_batch_ref = im_handler.offer_data()\n",
    "test_input = np.transpose(np.expand_dims(curr_batch_ref, axis=3), axes=(0, 3, 1, 2))\n",
    "test_input = np.tile(test_input, (1, 2, 1, 1))\n",
    "network.get_cost(test_input, curr_batch_ref)"
   ]
  },
  {
   "cell_type": "code",
   "execution_count": null,
   "metadata": {},
   "outputs": [],
   "source": [
    "curr_batch_input, curr_batch_ref = im_handler.offer_data()"
   ]
  },
  {
   "cell_type": "code",
   "execution_count": null,
   "metadata": {},
   "outputs": [],
   "source": [
    "temp_cost = network.train_adam_helper(curr_batch_input, curr_batch_ref)\n",
    "temp_cost"
   ]
  },
  {
   "cell_type": "code",
   "execution_count": null,
   "metadata": {},
   "outputs": [],
   "source": [
    "fig = plt.figure(figsize=(10,5))\n",
    "ax = fig.add_subplot(121)\n",
    "ax.imshow(test_out[ind, :, :], cmap='gray');\n",
    "ax = fig.add_subplot(122)\n",
    "ax.imshow(curr_batch_ref[ind, :, :], cmap='gray');\n",
    "ind += 1"
   ]
  },
  {
   "cell_type": "code",
   "execution_count": null,
   "metadata": {},
   "outputs": [],
   "source": [
    "test_out = network.process(curr_batch_input)"
   ]
  },
  {
   "cell_type": "code",
   "execution_count": null,
   "metadata": {},
   "outputs": [],
   "source": [
    "test_out = curr_batch_input[:, 0, :, :]\n",
    "diff = test_out - curr_batch_ref\n",
    "(diff**2).mean()"
   ]
  },
  {
   "cell_type": "code",
   "execution_count": null,
   "metadata": {},
   "outputs": [],
   "source": [
    "# Train network \n",
    "reset = True\n",
    "num_batches = 1000\n",
    "if reset:\n",
    "    cost = []\n",
    "    \n",
    "    # Get directory based on date \n",
    "    root_dir = '/media/arimorcos/4TB External/stn_conv_net'\n",
    "    new_log_dir = os.path.join(root_dir, datetime.datetime.now().strftime('%y%m%d_%H%M%S'))\n",
    "    network.set_log_dir(new_log_dir)\n",
    "\n",
    "print_every = 5\n",
    "\n",
    "for batch in range(num_batches):\n",
    "    \n",
    "    # Get data \n",
    "    curr_batch_input, curr_batch_ref = im_handler.offer_data()\n",
    "    \n",
    "    temp_cost = network.train_adam(curr_batch_input, curr_batch_ref)\n",
    "    \n",
    "    cost.append(temp_cost)\n",
    "    \n",
    "    if batch % print_every == 0:\n",
    "        print(\"Batch: {} | Cost: {:.5f}\".format(batch, temp_cost.tolist()))"
   ]
  },
  {
   "cell_type": "code",
   "execution_count": null,
   "metadata": {},
   "outputs": [],
   "source": [
    ""
   ]
  }
 ],
 "metadata": {
  "kernelspec": {
   "display_name": "Python 2",
   "language": "python",
   "name": "python2"
  },
  "language_info": {
   "codemirror_mode": {
    "name": "ipython",
    "version": 2.0
   },
   "file_extension": ".py",
   "mimetype": "text/x-python",
   "name": "python",
   "nbconvert_exporter": "python",
   "pygments_lexer": "ipython2",
   "version": "2.7.11"
  }
 },
 "nbformat": 4,
 "nbformat_minor": 0
}