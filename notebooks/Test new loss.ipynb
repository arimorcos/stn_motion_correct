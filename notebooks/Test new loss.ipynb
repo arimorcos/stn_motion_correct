{
 "cells": [
  {
   "cell_type": "code",
   "execution_count": 1,
   "metadata": {
    "collapsed": false
   },
   "outputs": [
    {
     "name": "stdout",
     "output_type": "stream",
     "text": [
      "Couldn't import dot_parser, loading of dot files will not be possible.\n"
     ]
    },
    {
     "name": "stderr",
     "output_type": "stream",
     "text": [
      "Using gpu device 0: GeForce GTX TITAN X (CNMeM is disabled)\n"
     ]
    }
   ],
   "source": [
    "import sys\n",
    "sys.path.append('..')\n",
    "import numpy as np\n",
    "\n",
    "import networks"
   ]
  },
  {
   "cell_type": "code",
   "execution_count": 2,
   "metadata": {
    "collapsed": false
   },
   "outputs": [],
   "source": [
    "network = networks.stn()"
   ]
  },
  {
   "cell_type": "code",
   "execution_count": 15,
   "metadata": {
    "collapsed": true
   },
   "outputs": [],
   "source": [
    "test_ref = np.random.randn(32, 512, 512).astype('float32')\n",
    "test_input = np.random.randn(32, 2,  512, 512).astype('float32')"
   ]
  },
  {
   "cell_type": "code",
   "execution_count": 4,
   "metadata": {
    "collapsed": false
   },
   "outputs": [
    {
     "data": {
      "text/plain": [
       "array([    32, 262144])"
      ]
     },
     "execution_count": 4,
     "metadata": {},
     "output_type": "execute_result"
    }
   ],
   "source": [
    "network.get_shape_1(test_ref)"
   ]
  },
  {
   "cell_type": "code",
   "execution_count": 5,
   "metadata": {
    "collapsed": false
   },
   "outputs": [
    {
     "data": {
      "text/plain": [
       "array([    32, 262144])"
      ]
     },
     "execution_count": 5,
     "metadata": {},
     "output_type": "execute_result"
    }
   ],
   "source": [
    "network.get_shape_2(test_ref)"
   ]
  },
  {
   "cell_type": "code",
   "execution_count": 6,
   "metadata": {
    "collapsed": false
   },
   "outputs": [
    {
     "name": "stdout",
     "output_type": "stream",
     "text": [
      "[32  1]\n",
      "[32  1]\n"
     ]
    }
   ],
   "source": [
    "max_shape, min_shape = network.get_max_min_shape(test_ref)\n",
    "print max_shape\n",
    "print min_shape"
   ]
  },
  {
   "cell_type": "code",
   "execution_count": 7,
   "metadata": {
    "collapsed": false
   },
   "outputs": [
    {
     "data": {
      "text/plain": [
       "array([    32, 262144])"
      ]
     },
     "execution_count": 7,
     "metadata": {},
     "output_type": "execute_result"
    }
   ],
   "source": [
    "network.get_norm_shape(test_ref)"
   ]
  },
  {
   "cell_type": "code",
   "execution_count": 12,
   "metadata": {
    "collapsed": false
   },
   "outputs": [
    {
     "name": "stdout",
     "output_type": "stream",
     "text": [
      "[[ 0.47155672  0.46467742  0.53074825 ...,  0.52420372  0.57487464\n",
      "   0.21859114]\n",
      " [ 0.53151751  0.58280981  0.67636657 ...,  0.61685473  0.69094819\n",
      "   0.28599432]\n",
      " [ 0.47452766  0.55346107  0.33348051 ...,  0.36708179  0.4290038\n",
      "   0.33820334]\n",
      " ..., \n",
      " [ 0.50877917  0.38340306  0.43615687 ...,  0.47129363  0.57775712\n",
      "   0.30611476]\n",
      " [ 0.622118    0.56285453  0.60737514 ...,  0.67576396  0.54789644\n",
      "   0.3101992 ]\n",
      " [ 0.56089497  0.53816503  0.53001302 ...,  0.75910008  0.7358377\n",
      "   0.62872815]]\n"
     ]
    }
   ],
   "source": [
    "ref_norm = network.get_ref_norm(test_ref)\n",
    "print ref_norm"
   ]
  },
  {
   "cell_type": "code",
   "execution_count": 14,
   "metadata": {
    "collapsed": false
   },
   "outputs": [
    {
     "data": {
      "text/plain": [
       "True"
      ]
     },
     "execution_count": 14,
     "metadata": {},
     "output_type": "execute_result"
    }
   ],
   "source": [
    "np.allclose(ref_norm.sum(axis=1), norm_sum)"
   ]
  },
  {
   "cell_type": "code",
   "execution_count": 9,
   "metadata": {
    "collapsed": false
   },
   "outputs": [
    {
     "name": "stdout",
     "output_type": "stream",
     "text": [
      "[ 1.]\n",
      "[ 0.]\n"
     ]
    }
   ],
   "source": [
    "norm_max, norm_min = network.get_norm_max_min(test_ref)\n",
    "print np.unique(norm_max)\n",
    "print np.unique(norm_min)"
   ]
  },
  {
   "cell_type": "code",
   "execution_count": 11,
   "metadata": {
    "collapsed": false
   },
   "outputs": [
    {
     "name": "stdout",
     "output_type": "stream",
     "text": [
      "[ 127905.484375   128338.         132405.15625    132753.34375\n",
      "  124923.4609375  130575.         133343.765625   127737.9453125\n",
      "  129573.03125    128182.453125   133820.171875   130224.2109375\n",
      "  140263.125      127612.1875     143731.515625   131173.34375\n",
      "  125458.109375   133360.625      126501.7421875  126860.171875\n",
      "  135228.21875    136670.984375   134460.71875    133298.421875   131939.375\n",
      "  131985.4375     139778.8125     127963.359375   128479.0234375\n",
      "  127711.84375    126745.8125     133771.625    ]\n",
      "[ 1.  1.  1.  1.  1.  1.  1.  1.  1.  1.  1.  1.  1.  1.  1.  1.  1.  1.\n",
      "  1.  1.  1.  1.  1.  1.  1.  1.  1.  1.  1.  1.  1.  1.]\n"
     ]
    }
   ],
   "source": [
    "norm_sum, part_sum = network.new_sum(test_ref)\n",
    "print norm_sum\n",
    "print part_sum"
   ]
  },
  {
   "cell_type": "code",
   "execution_count": null,
   "metadata": {
    "collapsed": false
   },
   "outputs": [],
   "source": [
    "test_ref_reshape = np.reshape(test_ref, (32, -1))\n",
    "test_ref_reshape.shape"
   ]
  },
  {
   "cell_type": "code",
   "execution_count": null,
   "metadata": {
    "collapsed": false
   },
   "outputs": [],
   "source": [
    "test_ref_reshape.max(axis=1).shape"
   ]
  },
  {
   "cell_type": "code",
   "execution_count": 16,
   "metadata": {
    "collapsed": false
   },
   "outputs": [
    {
     "data": {
      "text/plain": [
       "array(7.633152563357726e-06, dtype=float32)"
      ]
     },
     "execution_count": 16,
     "metadata": {},
     "output_type": "execute_result"
    }
   ],
   "source": [
    "network.get_cost(test_input, test_ref)"
   ]
  },
  {
   "cell_type": "code",
   "execution_count": null,
   "metadata": {
    "collapsed": true
   },
   "outputs": [],
   "source": []
  }
 ],
 "metadata": {
  "kernelspec": {
   "display_name": "Python 2",
   "language": "python",
   "name": "python2"
  },
  "language_info": {
   "codemirror_mode": {
    "name": "ipython",
    "version": 2
   },
   "file_extension": ".py",
   "mimetype": "text/x-python",
   "name": "python",
   "nbconvert_exporter": "python",
   "pygments_lexer": "ipython2",
   "version": "2.7.11"
  }
 },
 "nbformat": 4,
 "nbformat_minor": 0
}
