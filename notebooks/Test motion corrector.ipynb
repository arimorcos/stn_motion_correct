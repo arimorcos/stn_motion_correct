{
 "cells": [
  {
   "cell_type": "code",
   "execution_count": 1,
   "metadata": {
    "collapsed": false
   },
   "outputs": [
    {
     "name": "stdout",
     "output_type": "stream",
     "text": [
      "Couldn't import dot_parser, loading of dot files will not be possible.\n"
     ]
    },
    {
     "name": "stderr",
     "output_type": "stream",
     "text": [
      "Using gpu device 0: GeForce GTX TITAN X (CNMeM is disabled)\n"
     ]
    }
   ],
   "source": [
    "import sys\n",
    "sys.path.append('..')\n",
    "import numpy as np\n",
    "\n",
    "import motion_corrector\n",
    "import tiff_helpers\n",
    "import matplotlib.pyplot as plt"
   ]
  },
  {
   "cell_type": "code",
   "execution_count": 2,
   "metadata": {
    "collapsed": true
   },
   "outputs": [],
   "source": [
    "corrector = motion_corrector.motion_corrector(batch_size=256)"
   ]
  },
  {
   "cell_type": "code",
   "execution_count": 3,
   "metadata": {
    "collapsed": false,
    "scrolled": true
   },
   "outputs": [],
   "source": [
    "orig = corrector.get_tiff('/media/arimorcos/SSD 1/AM144/141228/AM144_003_002.tif')"
   ]
  },
  {
   "cell_type": "code",
   "execution_count": null,
   "metadata": {
    "collapsed": false
   },
   "outputs": [],
   "source": [
    "reload(motion_corrector)\n",
    "corrector = motion_corrector.motion_corrector()"
   ]
  },
  {
   "cell_type": "code",
   "execution_count": 4,
   "metadata": {
    "collapsed": false
   },
   "outputs": [
    {
     "name": "stdout",
     "output_type": "stream",
     "text": [
      "CPU times: user 20.4 s, sys: 3.95 s, total: 24.3 s\n",
      "Wall time: 24.4 s\n"
     ]
    }
   ],
   "source": [
    "%%time\n",
    "corrected = corrector.correct_tiff(orig, 500)"
   ]
  },
  {
   "cell_type": "code",
   "execution_count": null,
   "metadata": {
    "collapsed": false
   },
   "outputs": [],
   "source": [
    "reload(tiff_helpers)"
   ]
  },
  {
   "cell_type": "code",
   "execution_count": null,
   "metadata": {
    "collapsed": false
   },
   "outputs": [],
   "source": [
    "image_inds = (276, 277)\n",
    "crop_range = (0, 512)\n",
    "fig = plt.figure(figsize=(10, 5))\n",
    "ax = fig.add_subplot(121)\n",
    "tiff_helpers.imshowpair(orig[crop_range[0]:crop_range[1], crop_range[0]:crop_range[1], image_inds[0]],\n",
    "                        orig[crop_range[0]:crop_range[1], crop_range[0]:crop_range[1], image_inds[1]], ax=ax)\n",
    "ax = fig.add_subplot(122)\n",
    "tiff_helpers.imshowpair(corrected[crop_range[0]:crop_range[1], crop_range[0]:crop_range[1], image_inds[0]],\n",
    "                        corrected[crop_range[0]:crop_range[1], crop_range[0]:crop_range[1], image_inds[1]], ax=ax)\n",
    "plt.show()"
   ]
  },
  {
   "cell_type": "code",
   "execution_count": 16,
   "metadata": {
    "collapsed": true
   },
   "outputs": [],
   "source": [
    "fig = plt.figure(figsize=(10, 5))\n",
    "ax = fig.add_subplot(121)\n",
    "ax.imshow(orig[:, :, image_inds[1]], cmap='gray')\n",
    "plt.title('original')\n",
    "ax = fig.add_subplot(122)\n",
    "ax.imshow(corrected[:, :, image_inds[1]], cmap='gray')\n",
    "plt.title('corrected')\n",
    "plt.show()"
   ]
  },
  {
   "cell_type": "code",
   "execution_count": 5,
   "metadata": {
    "collapsed": false
   },
   "outputs": [],
   "source": [
    "def get_mean_absolute_error(img_1, img_2):\n",
    "    return np.mean(np.abs(img_1 - img_2))"
   ]
  },
  {
   "cell_type": "code",
   "execution_count": 6,
   "metadata": {
    "collapsed": true
   },
   "outputs": [],
   "source": [
    "def get_mse(img_1, img_2):\n",
    "    \"\"\"\n",
    "    Calculates the mean squared error between the two images\n",
    "    :param img_1: image 1\n",
    "    :param img_2: image 2\n",
    "    :return: scalar mean squared error\n",
    "    \"\"\"\n",
    "\n",
    "    return np.mean((img_1 - img_2)**2)"
   ]
  },
  {
   "cell_type": "code",
   "execution_count": 7,
   "metadata": {
    "collapsed": true
   },
   "outputs": [],
   "source": [
    "image_inds = (287, 288)"
   ]
  },
  {
   "cell_type": "code",
   "execution_count": null,
   "metadata": {
    "collapsed": true
   },
   "outputs": [],
   "source": [
    "corrected_new = tiff_helpers.read_tiff('/home/arimorcos/Github/stn_motion_correct/notebooks/test.tif')"
   ]
  },
  {
   "cell_type": "code",
   "execution_count": 8,
   "metadata": {
    "collapsed": true
   },
   "outputs": [],
   "source": [
    "orig = tiff_helpers.mean_center_img(orig)"
   ]
  },
  {
   "cell_type": "code",
   "execution_count": 21,
   "metadata": {
    "collapsed": false
   },
   "outputs": [
    {
     "data": {
      "text/plain": [
       "2.2737368e-13"
      ]
     },
     "execution_count": 21,
     "metadata": {},
     "output_type": "execute_result"
    }
   ],
   "source": [
    "get_mse(corrected[:, :, image_inds[0]], corrected[:, :, image_inds[1]])"
   ]
  },
  {
   "cell_type": "code",
   "execution_count": 22,
   "metadata": {
    "collapsed": false
   },
   "outputs": [
    {
     "data": {
      "text/plain": [
       "1.7408297e-13"
      ]
     },
     "execution_count": 22,
     "metadata": {},
     "output_type": "execute_result"
    }
   ],
   "source": [
    "get_mse(orig[:, :, image_inds[0]], orig[:, :, image_inds[1]])"
   ]
  },
  {
   "cell_type": "code",
   "execution_count": null,
   "metadata": {
    "collapsed": false
   },
   "outputs": [],
   "source": [
    "get_mse(lk[:, :, image_inds[0]], lk[:, :, image_inds[1]])"
   ]
  },
  {
   "cell_type": "code",
   "execution_count": null,
   "metadata": {
    "collapsed": false
   },
   "outputs": [],
   "source": [
    "get_mean_absolute_error(corrected[:, :, image_inds[0]], corrected[:, :, image_inds[1]])"
   ]
  },
  {
   "cell_type": "code",
   "execution_count": null,
   "metadata": {
    "collapsed": false
   },
   "outputs": [],
   "source": [
    "get_mean_absolute_error(orig[:, :, image_inds[0]], orig[:, :, image_inds[1]])"
   ]
  },
  {
   "cell_type": "code",
   "execution_count": 10,
   "metadata": {
    "collapsed": false
   },
   "outputs": [
    {
     "name": "stderr",
     "output_type": "stream",
     "text": [
      "../tiff_helpers.py:35: UserWarning: No specific pages requested, so returning all pages (1000)\n",
      "  .format(num_tiff_pages))\n"
     ]
    }
   ],
   "source": [
    "lk = tiff_helpers.read_tiff(\"/home/arimorcos/Github/stn_motion_correct/notebooks/AM144_141228_052_Plane001_red.tif\")\n",
    "lk = tiff_helpers.mean_center_img(lk)"
   ]
  },
  {
   "cell_type": "code",
   "execution_count": null,
   "metadata": {
    "collapsed": false
   },
   "outputs": [],
   "source": [
    "get_mean_absolute_error(lk[:, :, image_inds[0]], lk[:, :, image_inds[1]])"
   ]
  },
  {
   "cell_type": "code",
   "execution_count": 11,
   "metadata": {
    "collapsed": false
   },
   "outputs": [],
   "source": [
    "reload(tiff_helpers)\n",
    "fig = plt.figure(figsize=(10, 10))\n",
    "ax = fig.add_subplot(221)\n",
    "tiff_helpers.show_diff(corrected[:, :, image_inds[0]], corrected[:, :, image_inds[1]])\n",
    "plt.title('stn_corrected')\n",
    "ax = fig.add_subplot(222)\n",
    "tiff_helpers.show_diff(orig[:, :, image_inds[0]], orig[:, :, image_inds[1]])\n",
    "plt.title('original')\n",
    "ax = fig.add_subplot(223)\n",
    "tiff_helpers.show_diff(lk[:, :, image_inds[0]], lk[:, :, image_inds[1]])\n",
    "plt.title('lk_corrected')\n",
    "plt.show()"
   ]
  },
  {
   "cell_type": "code",
   "execution_count": 9,
   "metadata": {
    "collapsed": false
   },
   "outputs": [
    {
     "name": "stdout",
     "output_type": "stream",
     "text": [
      "0.326306\n",
      "1.12889\n"
     ]
    }
   ],
   "source": [
    "print get_mse(corrected[400:, 200:300, image_inds[0]], corrected[400:, 200:300, image_inds[1]])\n",
    "print get_mse(orig[400:, 200:300, image_inds[0]], orig[400:, 200:300, image_inds[1]])"
   ]
  },
  {
   "cell_type": "code",
   "execution_count": 15,
   "metadata": {
    "collapsed": true
   },
   "outputs": [],
   "source": [
    "sq_diff = (corrected[:, :, image_inds[0]] - corrected[:, :, image_inds[1]])**2"
   ]
  },
  {
   "cell_type": "code",
   "execution_count": 14,
   "metadata": {
    "collapsed": false
   },
   "outputs": [],
   "source": [
    "reload(tiff_helpers)\n",
    "fig = plt.figure(figsize=(10, 10))\n",
    "ax = fig.add_subplot(221)\n",
    "tiff_helpers.show_diff_hist(corrected[:, :, image_inds[0]], corrected[:, :, image_inds[1]])\n",
    "plt.title('stn_corrected')\n",
    "ax = fig.add_subplot(222)\n",
    "tiff_helpers.show_diff_hist(orig[:, :, image_inds[0]], orig[:, :, image_inds[1]])\n",
    "plt.title('original')\n",
    "ax = fig.add_subplot(223)\n",
    "tiff_helpers.show_diff_hist(lk[:, :, image_inds[0]], lk[:, :, image_inds[1]])\n",
    "plt.title('lk_corrected')\n",
    "plt.show()"
   ]
  },
  {
   "cell_type": "code",
   "execution_count": null,
   "metadata": {
    "collapsed": true
   },
   "outputs": [],
   "source": []
  }
 ],
 "metadata": {
  "kernelspec": {
   "display_name": "Python 2",
   "language": "python",
   "name": "python2"
  },
  "language_info": {
   "codemirror_mode": {
    "name": "ipython",
    "version": 2
   },
   "file_extension": ".py",
   "mimetype": "text/x-python",
   "name": "python",
   "nbconvert_exporter": "python",
   "pygments_lexer": "ipython2",
   "version": "2.7.11"
  }
 },
 "nbformat": 4,
 "nbformat_minor": 0
}
